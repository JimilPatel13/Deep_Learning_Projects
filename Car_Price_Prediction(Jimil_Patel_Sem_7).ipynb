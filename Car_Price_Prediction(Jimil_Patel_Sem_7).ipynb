{
  "cells": [
    {
      "cell_type": "markdown",
      "metadata": {
        "id": "view-in-github",
        "colab_type": "text"
      },
      "source": [
        "<a href=\"https://colab.research.google.com/github/JimilPatel13/Deep_Learning_Projects/blob/main/Car_Price_Prediction(Jimil_Patel_Sem_7).ipynb\" target=\"_parent\"><img src=\"https://colab.research.google.com/assets/colab-badge.svg\" alt=\"Open In Colab\"/></a>"
      ]
    },
    {
      "cell_type": "markdown",
      "id": "28692d1a",
      "metadata": {
        "id": "28692d1a"
      },
      "source": [
        "# Name : Patel Jimil Mitesh\n",
        "# Data Science (Sem-7)"
      ]
    },
    {
      "cell_type": "code",
      "execution_count": 1,
      "id": "06631146",
      "metadata": {
        "id": "06631146"
      },
      "outputs": [],
      "source": [
        "# Importing libraries\n",
        "import tensorflow as tf\n",
        "from tensorflow.keras.models import Sequential\n",
        "from tensorflow.keras.layers import Dense\n",
        "from tensorflow.keras.callbacks import EarlyStopping\n",
        "from sklearn.preprocessing import StandardScaler\n",
        "from sklearn.metrics import confusion_matrix\n",
        "import numpy as np\n",
        "import pandas as pd\n",
        "import seaborn as sns\n",
        "import matplotlib.pyplot as plt"
      ]
    },
    {
      "cell_type": "code",
      "execution_count": 2,
      "id": "1e31ba1a",
      "metadata": {
        "id": "1e31ba1a"
      },
      "outputs": [],
      "source": [
        "#Loading data\n",
        "data = pd.read_csv(\"car-data.csv\")"
      ]
    },
    {
      "cell_type": "code",
      "execution_count": 3,
      "id": "62fd4eb8",
      "metadata": {
        "id": "62fd4eb8",
        "outputId": "c8b5fe42-0a7f-4be0-b9dd-9f56619523aa",
        "colab": {
          "base_uri": "https://localhost:8080/",
          "height": 441
        }
      },
      "outputs": [
        {
          "output_type": "execute_result",
          "data": {
            "text/plain": [
              "   Unnamed: 0                              Name    Location  Year  \\\n",
              "0           0            Maruti Wagon R LXI CNG      Mumbai  2010   \n",
              "1           1  Hyundai Creta 1.6 CRDi SX Option        Pune  2015   \n",
              "2           2                      Honda Jazz V     Chennai  2011   \n",
              "3           3                 Maruti Ertiga VDI     Chennai  2012   \n",
              "4           4   Audi A4 New 2.0 TDI Multitronic  Coimbatore  2013   \n",
              "\n",
              "   Kilometers_Driven Fuel_Type Transmission Owner_Type     Mileage   Engine  \\\n",
              "0              72000       CNG       Manual      First  26.6 km/kg   998 CC   \n",
              "1              41000    Diesel       Manual      First  19.67 kmpl  1582 CC   \n",
              "2              46000    Petrol       Manual      First   18.2 kmpl  1199 CC   \n",
              "3              87000    Diesel       Manual      First  20.77 kmpl  1248 CC   \n",
              "4              40670    Diesel    Automatic     Second   15.2 kmpl  1968 CC   \n",
              "\n",
              "       Power  Seats  New_Price  Price  \n",
              "0  58.16 bhp    5.0        NaN   1.75  \n",
              "1  126.2 bhp    5.0        NaN  12.50  \n",
              "2   88.7 bhp    5.0  8.61 Lakh   4.50  \n",
              "3  88.76 bhp    7.0        NaN   6.00  \n",
              "4  140.8 bhp    5.0        NaN  17.74  "
            ],
            "text/html": [
              "\n",
              "  <div id=\"df-67a7d4fe-88a5-45b8-b538-104634f7597a\">\n",
              "    <div class=\"colab-df-container\">\n",
              "      <div>\n",
              "<style scoped>\n",
              "    .dataframe tbody tr th:only-of-type {\n",
              "        vertical-align: middle;\n",
              "    }\n",
              "\n",
              "    .dataframe tbody tr th {\n",
              "        vertical-align: top;\n",
              "    }\n",
              "\n",
              "    .dataframe thead th {\n",
              "        text-align: right;\n",
              "    }\n",
              "</style>\n",
              "<table border=\"1\" class=\"dataframe\">\n",
              "  <thead>\n",
              "    <tr style=\"text-align: right;\">\n",
              "      <th></th>\n",
              "      <th>Unnamed: 0</th>\n",
              "      <th>Name</th>\n",
              "      <th>Location</th>\n",
              "      <th>Year</th>\n",
              "      <th>Kilometers_Driven</th>\n",
              "      <th>Fuel_Type</th>\n",
              "      <th>Transmission</th>\n",
              "      <th>Owner_Type</th>\n",
              "      <th>Mileage</th>\n",
              "      <th>Engine</th>\n",
              "      <th>Power</th>\n",
              "      <th>Seats</th>\n",
              "      <th>New_Price</th>\n",
              "      <th>Price</th>\n",
              "    </tr>\n",
              "  </thead>\n",
              "  <tbody>\n",
              "    <tr>\n",
              "      <th>0</th>\n",
              "      <td>0</td>\n",
              "      <td>Maruti Wagon R LXI CNG</td>\n",
              "      <td>Mumbai</td>\n",
              "      <td>2010</td>\n",
              "      <td>72000</td>\n",
              "      <td>CNG</td>\n",
              "      <td>Manual</td>\n",
              "      <td>First</td>\n",
              "      <td>26.6 km/kg</td>\n",
              "      <td>998 CC</td>\n",
              "      <td>58.16 bhp</td>\n",
              "      <td>5.0</td>\n",
              "      <td>NaN</td>\n",
              "      <td>1.75</td>\n",
              "    </tr>\n",
              "    <tr>\n",
              "      <th>1</th>\n",
              "      <td>1</td>\n",
              "      <td>Hyundai Creta 1.6 CRDi SX Option</td>\n",
              "      <td>Pune</td>\n",
              "      <td>2015</td>\n",
              "      <td>41000</td>\n",
              "      <td>Diesel</td>\n",
              "      <td>Manual</td>\n",
              "      <td>First</td>\n",
              "      <td>19.67 kmpl</td>\n",
              "      <td>1582 CC</td>\n",
              "      <td>126.2 bhp</td>\n",
              "      <td>5.0</td>\n",
              "      <td>NaN</td>\n",
              "      <td>12.50</td>\n",
              "    </tr>\n",
              "    <tr>\n",
              "      <th>2</th>\n",
              "      <td>2</td>\n",
              "      <td>Honda Jazz V</td>\n",
              "      <td>Chennai</td>\n",
              "      <td>2011</td>\n",
              "      <td>46000</td>\n",
              "      <td>Petrol</td>\n",
              "      <td>Manual</td>\n",
              "      <td>First</td>\n",
              "      <td>18.2 kmpl</td>\n",
              "      <td>1199 CC</td>\n",
              "      <td>88.7 bhp</td>\n",
              "      <td>5.0</td>\n",
              "      <td>8.61 Lakh</td>\n",
              "      <td>4.50</td>\n",
              "    </tr>\n",
              "    <tr>\n",
              "      <th>3</th>\n",
              "      <td>3</td>\n",
              "      <td>Maruti Ertiga VDI</td>\n",
              "      <td>Chennai</td>\n",
              "      <td>2012</td>\n",
              "      <td>87000</td>\n",
              "      <td>Diesel</td>\n",
              "      <td>Manual</td>\n",
              "      <td>First</td>\n",
              "      <td>20.77 kmpl</td>\n",
              "      <td>1248 CC</td>\n",
              "      <td>88.76 bhp</td>\n",
              "      <td>7.0</td>\n",
              "      <td>NaN</td>\n",
              "      <td>6.00</td>\n",
              "    </tr>\n",
              "    <tr>\n",
              "      <th>4</th>\n",
              "      <td>4</td>\n",
              "      <td>Audi A4 New 2.0 TDI Multitronic</td>\n",
              "      <td>Coimbatore</td>\n",
              "      <td>2013</td>\n",
              "      <td>40670</td>\n",
              "      <td>Diesel</td>\n",
              "      <td>Automatic</td>\n",
              "      <td>Second</td>\n",
              "      <td>15.2 kmpl</td>\n",
              "      <td>1968 CC</td>\n",
              "      <td>140.8 bhp</td>\n",
              "      <td>5.0</td>\n",
              "      <td>NaN</td>\n",
              "      <td>17.74</td>\n",
              "    </tr>\n",
              "  </tbody>\n",
              "</table>\n",
              "</div>\n",
              "      <button class=\"colab-df-convert\" onclick=\"convertToInteractive('df-67a7d4fe-88a5-45b8-b538-104634f7597a')\"\n",
              "              title=\"Convert this dataframe to an interactive table.\"\n",
              "              style=\"display:none;\">\n",
              "        \n",
              "  <svg xmlns=\"http://www.w3.org/2000/svg\" height=\"24px\"viewBox=\"0 0 24 24\"\n",
              "       width=\"24px\">\n",
              "    <path d=\"M0 0h24v24H0V0z\" fill=\"none\"/>\n",
              "    <path d=\"M18.56 5.44l.94 2.06.94-2.06 2.06-.94-2.06-.94-.94-2.06-.94 2.06-2.06.94zm-11 1L8.5 8.5l.94-2.06 2.06-.94-2.06-.94L8.5 2.5l-.94 2.06-2.06.94zm10 10l.94 2.06.94-2.06 2.06-.94-2.06-.94-.94-2.06-.94 2.06-2.06.94z\"/><path d=\"M17.41 7.96l-1.37-1.37c-.4-.4-.92-.59-1.43-.59-.52 0-1.04.2-1.43.59L10.3 9.45l-7.72 7.72c-.78.78-.78 2.05 0 2.83L4 21.41c.39.39.9.59 1.41.59.51 0 1.02-.2 1.41-.59l7.78-7.78 2.81-2.81c.8-.78.8-2.07 0-2.86zM5.41 20L4 18.59l7.72-7.72 1.47 1.35L5.41 20z\"/>\n",
              "  </svg>\n",
              "      </button>\n",
              "      \n",
              "  <style>\n",
              "    .colab-df-container {\n",
              "      display:flex;\n",
              "      flex-wrap:wrap;\n",
              "      gap: 12px;\n",
              "    }\n",
              "\n",
              "    .colab-df-convert {\n",
              "      background-color: #E8F0FE;\n",
              "      border: none;\n",
              "      border-radius: 50%;\n",
              "      cursor: pointer;\n",
              "      display: none;\n",
              "      fill: #1967D2;\n",
              "      height: 32px;\n",
              "      padding: 0 0 0 0;\n",
              "      width: 32px;\n",
              "    }\n",
              "\n",
              "    .colab-df-convert:hover {\n",
              "      background-color: #E2EBFA;\n",
              "      box-shadow: 0px 1px 2px rgba(60, 64, 67, 0.3), 0px 1px 3px 1px rgba(60, 64, 67, 0.15);\n",
              "      fill: #174EA6;\n",
              "    }\n",
              "\n",
              "    [theme=dark] .colab-df-convert {\n",
              "      background-color: #3B4455;\n",
              "      fill: #D2E3FC;\n",
              "    }\n",
              "\n",
              "    [theme=dark] .colab-df-convert:hover {\n",
              "      background-color: #434B5C;\n",
              "      box-shadow: 0px 1px 3px 1px rgba(0, 0, 0, 0.15);\n",
              "      filter: drop-shadow(0px 1px 2px rgba(0, 0, 0, 0.3));\n",
              "      fill: #FFFFFF;\n",
              "    }\n",
              "  </style>\n",
              "\n",
              "      <script>\n",
              "        const buttonEl =\n",
              "          document.querySelector('#df-67a7d4fe-88a5-45b8-b538-104634f7597a button.colab-df-convert');\n",
              "        buttonEl.style.display =\n",
              "          google.colab.kernel.accessAllowed ? 'block' : 'none';\n",
              "\n",
              "        async function convertToInteractive(key) {\n",
              "          const element = document.querySelector('#df-67a7d4fe-88a5-45b8-b538-104634f7597a');\n",
              "          const dataTable =\n",
              "            await google.colab.kernel.invokeFunction('convertToInteractive',\n",
              "                                                     [key], {});\n",
              "          if (!dataTable) return;\n",
              "\n",
              "          const docLinkHtml = 'Like what you see? Visit the ' +\n",
              "            '<a target=\"_blank\" href=https://colab.research.google.com/notebooks/data_table.ipynb>data table notebook</a>'\n",
              "            + ' to learn more about interactive tables.';\n",
              "          element.innerHTML = '';\n",
              "          dataTable['output_type'] = 'display_data';\n",
              "          await google.colab.output.renderOutput(dataTable, element);\n",
              "          const docLink = document.createElement('div');\n",
              "          docLink.innerHTML = docLinkHtml;\n",
              "          element.appendChild(docLink);\n",
              "        }\n",
              "      </script>\n",
              "    </div>\n",
              "  </div>\n",
              "  "
            ]
          },
          "metadata": {},
          "execution_count": 3
        }
      ],
      "source": [
        "data.head()"
      ]
    },
    {
      "cell_type": "code",
      "execution_count": 4,
      "id": "20da8ece",
      "metadata": {
        "id": "20da8ece",
        "outputId": "171d06b5-fd30-4959-f0da-ff2bf3947ae1",
        "colab": {
          "base_uri": "https://localhost:8080/"
        }
      },
      "outputs": [
        {
          "output_type": "execute_result",
          "data": {
            "text/plain": [
              "(6019, 14)"
            ]
          },
          "metadata": {},
          "execution_count": 4
        }
      ],
      "source": [
        "data.shape"
      ]
    },
    {
      "cell_type": "code",
      "execution_count": 5,
      "id": "346131c0",
      "metadata": {
        "id": "346131c0",
        "outputId": "5f857ef9-ee65-4a2d-cd8a-c20a4db45a77",
        "colab": {
          "base_uri": "https://localhost:8080/"
        }
      },
      "outputs": [
        {
          "output_type": "stream",
          "name": "stdout",
          "text": [
            "<class 'pandas.core.frame.DataFrame'>\n",
            "RangeIndex: 6019 entries, 0 to 6018\n",
            "Data columns (total 14 columns):\n",
            " #   Column             Non-Null Count  Dtype  \n",
            "---  ------             --------------  -----  \n",
            " 0   Unnamed: 0         6019 non-null   int64  \n",
            " 1   Name               6019 non-null   object \n",
            " 2   Location           6019 non-null   object \n",
            " 3   Year               6019 non-null   int64  \n",
            " 4   Kilometers_Driven  6019 non-null   int64  \n",
            " 5   Fuel_Type          6019 non-null   object \n",
            " 6   Transmission       6019 non-null   object \n",
            " 7   Owner_Type         6019 non-null   object \n",
            " 8   Mileage            6017 non-null   object \n",
            " 9   Engine             5983 non-null   object \n",
            " 10  Power              5983 non-null   object \n",
            " 11  Seats              5977 non-null   float64\n",
            " 12  New_Price          824 non-null    object \n",
            " 13  Price              6019 non-null   float64\n",
            "dtypes: float64(2), int64(3), object(9)\n",
            "memory usage: 658.5+ KB\n"
          ]
        }
      ],
      "source": [
        "data.info()"
      ]
    },
    {
      "cell_type": "code",
      "execution_count": 6,
      "id": "d52271e3",
      "metadata": {
        "id": "d52271e3",
        "outputId": "43b7fb41-5c37-4e3f-cb85-ca5b1166e300",
        "colab": {
          "base_uri": "https://localhost:8080/",
          "height": 300
        }
      },
      "outputs": [
        {
          "output_type": "execute_result",
          "data": {
            "text/plain": [
              "        Unnamed: 0         Year  Kilometers_Driven        Seats        Price\n",
              "count  6019.000000  6019.000000       6.019000e+03  5977.000000  6019.000000\n",
              "mean   3009.000000  2013.358199       5.873838e+04     5.278735     9.479468\n",
              "std    1737.679967     3.269742       9.126884e+04     0.808840    11.187917\n",
              "min       0.000000  1998.000000       1.710000e+02     0.000000     0.440000\n",
              "25%    1504.500000  2011.000000       3.400000e+04     5.000000     3.500000\n",
              "50%    3009.000000  2014.000000       5.300000e+04     5.000000     5.640000\n",
              "75%    4513.500000  2016.000000       7.300000e+04     5.000000     9.950000\n",
              "max    6018.000000  2019.000000       6.500000e+06    10.000000   160.000000"
            ],
            "text/html": [
              "\n",
              "  <div id=\"df-7168ebe7-b215-4c97-8f1c-842b2824ca75\">\n",
              "    <div class=\"colab-df-container\">\n",
              "      <div>\n",
              "<style scoped>\n",
              "    .dataframe tbody tr th:only-of-type {\n",
              "        vertical-align: middle;\n",
              "    }\n",
              "\n",
              "    .dataframe tbody tr th {\n",
              "        vertical-align: top;\n",
              "    }\n",
              "\n",
              "    .dataframe thead th {\n",
              "        text-align: right;\n",
              "    }\n",
              "</style>\n",
              "<table border=\"1\" class=\"dataframe\">\n",
              "  <thead>\n",
              "    <tr style=\"text-align: right;\">\n",
              "      <th></th>\n",
              "      <th>Unnamed: 0</th>\n",
              "      <th>Year</th>\n",
              "      <th>Kilometers_Driven</th>\n",
              "      <th>Seats</th>\n",
              "      <th>Price</th>\n",
              "    </tr>\n",
              "  </thead>\n",
              "  <tbody>\n",
              "    <tr>\n",
              "      <th>count</th>\n",
              "      <td>6019.000000</td>\n",
              "      <td>6019.000000</td>\n",
              "      <td>6.019000e+03</td>\n",
              "      <td>5977.000000</td>\n",
              "      <td>6019.000000</td>\n",
              "    </tr>\n",
              "    <tr>\n",
              "      <th>mean</th>\n",
              "      <td>3009.000000</td>\n",
              "      <td>2013.358199</td>\n",
              "      <td>5.873838e+04</td>\n",
              "      <td>5.278735</td>\n",
              "      <td>9.479468</td>\n",
              "    </tr>\n",
              "    <tr>\n",
              "      <th>std</th>\n",
              "      <td>1737.679967</td>\n",
              "      <td>3.269742</td>\n",
              "      <td>9.126884e+04</td>\n",
              "      <td>0.808840</td>\n",
              "      <td>11.187917</td>\n",
              "    </tr>\n",
              "    <tr>\n",
              "      <th>min</th>\n",
              "      <td>0.000000</td>\n",
              "      <td>1998.000000</td>\n",
              "      <td>1.710000e+02</td>\n",
              "      <td>0.000000</td>\n",
              "      <td>0.440000</td>\n",
              "    </tr>\n",
              "    <tr>\n",
              "      <th>25%</th>\n",
              "      <td>1504.500000</td>\n",
              "      <td>2011.000000</td>\n",
              "      <td>3.400000e+04</td>\n",
              "      <td>5.000000</td>\n",
              "      <td>3.500000</td>\n",
              "    </tr>\n",
              "    <tr>\n",
              "      <th>50%</th>\n",
              "      <td>3009.000000</td>\n",
              "      <td>2014.000000</td>\n",
              "      <td>5.300000e+04</td>\n",
              "      <td>5.000000</td>\n",
              "      <td>5.640000</td>\n",
              "    </tr>\n",
              "    <tr>\n",
              "      <th>75%</th>\n",
              "      <td>4513.500000</td>\n",
              "      <td>2016.000000</td>\n",
              "      <td>7.300000e+04</td>\n",
              "      <td>5.000000</td>\n",
              "      <td>9.950000</td>\n",
              "    </tr>\n",
              "    <tr>\n",
              "      <th>max</th>\n",
              "      <td>6018.000000</td>\n",
              "      <td>2019.000000</td>\n",
              "      <td>6.500000e+06</td>\n",
              "      <td>10.000000</td>\n",
              "      <td>160.000000</td>\n",
              "    </tr>\n",
              "  </tbody>\n",
              "</table>\n",
              "</div>\n",
              "      <button class=\"colab-df-convert\" onclick=\"convertToInteractive('df-7168ebe7-b215-4c97-8f1c-842b2824ca75')\"\n",
              "              title=\"Convert this dataframe to an interactive table.\"\n",
              "              style=\"display:none;\">\n",
              "        \n",
              "  <svg xmlns=\"http://www.w3.org/2000/svg\" height=\"24px\"viewBox=\"0 0 24 24\"\n",
              "       width=\"24px\">\n",
              "    <path d=\"M0 0h24v24H0V0z\" fill=\"none\"/>\n",
              "    <path d=\"M18.56 5.44l.94 2.06.94-2.06 2.06-.94-2.06-.94-.94-2.06-.94 2.06-2.06.94zm-11 1L8.5 8.5l.94-2.06 2.06-.94-2.06-.94L8.5 2.5l-.94 2.06-2.06.94zm10 10l.94 2.06.94-2.06 2.06-.94-2.06-.94-.94-2.06-.94 2.06-2.06.94z\"/><path d=\"M17.41 7.96l-1.37-1.37c-.4-.4-.92-.59-1.43-.59-.52 0-1.04.2-1.43.59L10.3 9.45l-7.72 7.72c-.78.78-.78 2.05 0 2.83L4 21.41c.39.39.9.59 1.41.59.51 0 1.02-.2 1.41-.59l7.78-7.78 2.81-2.81c.8-.78.8-2.07 0-2.86zM5.41 20L4 18.59l7.72-7.72 1.47 1.35L5.41 20z\"/>\n",
              "  </svg>\n",
              "      </button>\n",
              "      \n",
              "  <style>\n",
              "    .colab-df-container {\n",
              "      display:flex;\n",
              "      flex-wrap:wrap;\n",
              "      gap: 12px;\n",
              "    }\n",
              "\n",
              "    .colab-df-convert {\n",
              "      background-color: #E8F0FE;\n",
              "      border: none;\n",
              "      border-radius: 50%;\n",
              "      cursor: pointer;\n",
              "      display: none;\n",
              "      fill: #1967D2;\n",
              "      height: 32px;\n",
              "      padding: 0 0 0 0;\n",
              "      width: 32px;\n",
              "    }\n",
              "\n",
              "    .colab-df-convert:hover {\n",
              "      background-color: #E2EBFA;\n",
              "      box-shadow: 0px 1px 2px rgba(60, 64, 67, 0.3), 0px 1px 3px 1px rgba(60, 64, 67, 0.15);\n",
              "      fill: #174EA6;\n",
              "    }\n",
              "\n",
              "    [theme=dark] .colab-df-convert {\n",
              "      background-color: #3B4455;\n",
              "      fill: #D2E3FC;\n",
              "    }\n",
              "\n",
              "    [theme=dark] .colab-df-convert:hover {\n",
              "      background-color: #434B5C;\n",
              "      box-shadow: 0px 1px 3px 1px rgba(0, 0, 0, 0.15);\n",
              "      filter: drop-shadow(0px 1px 2px rgba(0, 0, 0, 0.3));\n",
              "      fill: #FFFFFF;\n",
              "    }\n",
              "  </style>\n",
              "\n",
              "      <script>\n",
              "        const buttonEl =\n",
              "          document.querySelector('#df-7168ebe7-b215-4c97-8f1c-842b2824ca75 button.colab-df-convert');\n",
              "        buttonEl.style.display =\n",
              "          google.colab.kernel.accessAllowed ? 'block' : 'none';\n",
              "\n",
              "        async function convertToInteractive(key) {\n",
              "          const element = document.querySelector('#df-7168ebe7-b215-4c97-8f1c-842b2824ca75');\n",
              "          const dataTable =\n",
              "            await google.colab.kernel.invokeFunction('convertToInteractive',\n",
              "                                                     [key], {});\n",
              "          if (!dataTable) return;\n",
              "\n",
              "          const docLinkHtml = 'Like what you see? Visit the ' +\n",
              "            '<a target=\"_blank\" href=https://colab.research.google.com/notebooks/data_table.ipynb>data table notebook</a>'\n",
              "            + ' to learn more about interactive tables.';\n",
              "          element.innerHTML = '';\n",
              "          dataTable['output_type'] = 'display_data';\n",
              "          await google.colab.output.renderOutput(dataTable, element);\n",
              "          const docLink = document.createElement('div');\n",
              "          docLink.innerHTML = docLinkHtml;\n",
              "          element.appendChild(docLink);\n",
              "        }\n",
              "      </script>\n",
              "    </div>\n",
              "  </div>\n",
              "  "
            ]
          },
          "metadata": {},
          "execution_count": 6
        }
      ],
      "source": [
        "data.describe()"
      ]
    },
    {
      "cell_type": "code",
      "execution_count": 7,
      "id": "45179d5d",
      "metadata": {
        "id": "45179d5d",
        "outputId": "4262dfc2-0a08-42da-e908-fe8c33659d51",
        "colab": {
          "base_uri": "https://localhost:8080/"
        }
      },
      "outputs": [
        {
          "output_type": "execute_result",
          "data": {
            "text/plain": [
              "False"
            ]
          },
          "metadata": {},
          "execution_count": 7
        }
      ],
      "source": [
        "data.duplicated().any()"
      ]
    },
    {
      "cell_type": "code",
      "execution_count": 8,
      "id": "3358d252",
      "metadata": {
        "id": "3358d252"
      },
      "outputs": [],
      "source": [
        "# Handling NaN values with mean imputation for numerical data\n",
        "data_numeric = data.select_dtypes(include=[np.number])\n",
        "data_numeric = data_numeric.fillna(data_numeric.mean())\n",
        "\n",
        "# Handling NaN values with mode imputation for categorical data\n",
        "data_categorical = data.select_dtypes(include=[np.object_])\n",
        "data_categorical = data_categorical.fillna(data_categorical.mode().iloc[0])\n",
        "\n",
        "# Combining the numerical and categorical data\n",
        "data = pd.concat([data_numeric, data_categorical], axis=1)"
      ]
    },
    {
      "cell_type": "code",
      "execution_count": 9,
      "id": "f8fd6d6f",
      "metadata": {
        "id": "f8fd6d6f"
      },
      "outputs": [],
      "source": [
        "from sklearn import preprocessing\n",
        "label_encoder = preprocessing.LabelEncoder()\n",
        "data['Name'] = label_encoder.fit_transform(data['Name'])\n",
        "data['Location'] = label_encoder.fit_transform(data['Location'])\n",
        "data['Fuel_Type'] = label_encoder.fit_transform(data['Fuel_Type'])\n",
        "data['Transmission'] = label_encoder.fit_transform(data['Transmission'])\n",
        "data['Owner_Type'] = label_encoder.fit_transform(data['Owner_Type'])\n",
        "data['Power'] = label_encoder.fit_transform(data['Power'])\n",
        "data['Engine'] = label_encoder.fit_transform(data['Engine'])\n",
        "data['Mileage'] = label_encoder.fit_transform(data['Mileage'])\n",
        "data['New_Price'] = label_encoder.fit_transform(data['New_Price'])"
      ]
    },
    {
      "cell_type": "code",
      "execution_count": 10,
      "id": "0a3cbd7f",
      "metadata": {
        "id": "0a3cbd7f"
      },
      "outputs": [],
      "source": [
        "x = data.drop(columns = ['Price','Unnamed: 0'], axis = 1)"
      ]
    },
    {
      "cell_type": "code",
      "execution_count": 11,
      "id": "09924787",
      "metadata": {
        "id": "09924787"
      },
      "outputs": [],
      "source": [
        "y = data['Price']"
      ]
    },
    {
      "cell_type": "code",
      "execution_count": 12,
      "id": "8a85285a",
      "metadata": {
        "id": "8a85285a"
      },
      "outputs": [],
      "source": [
        "from sklearn.model_selection import train_test_split\n",
        "\n",
        "x_train, x_test, y_train, y_test = train_test_split(x, y, test_size = 0.2)"
      ]
    },
    {
      "cell_type": "code",
      "execution_count": 13,
      "id": "330a5511",
      "metadata": {
        "id": "330a5511",
        "outputId": "b96bc106-91b4-414a-a828-a758ab8fa236",
        "colab": {
          "base_uri": "https://localhost:8080/"
        }
      },
      "outputs": [
        {
          "output_type": "execute_result",
          "data": {
            "text/plain": [
              "(4815, 12)"
            ]
          },
          "metadata": {},
          "execution_count": 13
        }
      ],
      "source": [
        "x_train.shape"
      ]
    },
    {
      "cell_type": "code",
      "execution_count": 14,
      "id": "aa60f4bc",
      "metadata": {
        "id": "aa60f4bc",
        "outputId": "51921f53-0561-4d37-b1e0-e293b2d05358",
        "colab": {
          "base_uri": "https://localhost:8080/"
        }
      },
      "outputs": [
        {
          "output_type": "execute_result",
          "data": {
            "text/plain": [
              "(1204, 12)"
            ]
          },
          "metadata": {},
          "execution_count": 14
        }
      ],
      "source": [
        "x_test.shape"
      ]
    },
    {
      "cell_type": "code",
      "execution_count": 15,
      "id": "fcdbe628",
      "metadata": {
        "id": "fcdbe628"
      },
      "outputs": [],
      "source": [
        "scaler = StandardScaler()\n",
        "x_train = scaler.fit_transform(x_train)\n",
        "x_test = scaler.transform(x_test)"
      ]
    },
    {
      "cell_type": "code",
      "execution_count": 16,
      "id": "ed453748",
      "metadata": {
        "id": "ed453748"
      },
      "outputs": [],
      "source": [
        "model = Sequential()\n",
        "model.add(Dense(20, activation = 'relu', input_shape = (12,)))\n",
        "model.add(Dense(14, activation = 'relu'))\n",
        "model.add(Dense(1, activation = 'relu'))"
      ]
    },
    {
      "cell_type": "code",
      "execution_count": 17,
      "id": "9f8f7f0c",
      "metadata": {
        "id": "9f8f7f0c"
      },
      "outputs": [],
      "source": [
        "model.compile(optimizer = 'adam', loss = 'mean_absolute_error', metrics = ['MAE'])"
      ]
    },
    {
      "cell_type": "code",
      "execution_count": 18,
      "id": "fb0e3111",
      "metadata": {
        "id": "fb0e3111"
      },
      "outputs": [],
      "source": [
        "early_stopping = EarlyStopping(monitor = 'MAE', patience = 3)"
      ]
    },
    {
      "cell_type": "code",
      "execution_count": 19,
      "id": "30d70335",
      "metadata": {
        "id": "30d70335",
        "outputId": "fc97d2b4-9159-45c1-b351-616406758b06",
        "colab": {
          "base_uri": "https://localhost:8080/"
        }
      },
      "outputs": [
        {
          "output_type": "stream",
          "name": "stdout",
          "text": [
            "Epoch 1/80\n",
            "121/121 [==============================] - 5s 17ms/step - loss: 8.6946 - MAE: 8.6946 - val_loss: 7.0985 - val_MAE: 7.0985\n",
            "Epoch 2/80\n",
            "121/121 [==============================] - 2s 14ms/step - loss: 5.2267 - MAE: 5.2267 - val_loss: 4.3329 - val_MAE: 4.3329\n",
            "Epoch 3/80\n",
            "121/121 [==============================] - 1s 11ms/step - loss: 3.8029 - MAE: 3.8029 - val_loss: 3.8058 - val_MAE: 3.8058\n",
            "Epoch 4/80\n",
            "121/121 [==============================] - 1s 11ms/step - loss: 3.4963 - MAE: 3.4963 - val_loss: 3.5660 - val_MAE: 3.5660\n",
            "Epoch 5/80\n",
            "121/121 [==============================] - 1s 8ms/step - loss: 3.3403 - MAE: 3.3403 - val_loss: 3.4204 - val_MAE: 3.4204\n",
            "Epoch 6/80\n",
            "121/121 [==============================] - 1s 6ms/step - loss: 3.2383 - MAE: 3.2383 - val_loss: 3.3077 - val_MAE: 3.3077\n",
            "Epoch 7/80\n",
            "121/121 [==============================] - 1s 6ms/step - loss: 3.1527 - MAE: 3.1527 - val_loss: 3.2055 - val_MAE: 3.2055\n",
            "Epoch 8/80\n",
            "121/121 [==============================] - 1s 8ms/step - loss: 3.0770 - MAE: 3.0770 - val_loss: 3.1257 - val_MAE: 3.1257\n",
            "Epoch 9/80\n",
            "121/121 [==============================] - 1s 8ms/step - loss: 3.0110 - MAE: 3.0110 - val_loss: 3.0378 - val_MAE: 3.0378\n",
            "Epoch 10/80\n",
            "121/121 [==============================] - 1s 8ms/step - loss: 2.9444 - MAE: 2.9444 - val_loss: 2.9532 - val_MAE: 2.9532\n",
            "Epoch 11/80\n",
            "121/121 [==============================] - 1s 7ms/step - loss: 2.8744 - MAE: 2.8744 - val_loss: 2.8744 - val_MAE: 2.8744\n",
            "Epoch 12/80\n",
            "121/121 [==============================] - 1s 8ms/step - loss: 2.8070 - MAE: 2.8070 - val_loss: 2.7809 - val_MAE: 2.7809\n",
            "Epoch 13/80\n",
            "121/121 [==============================] - 1s 9ms/step - loss: 2.7432 - MAE: 2.7432 - val_loss: 2.6978 - val_MAE: 2.6978\n",
            "Epoch 14/80\n",
            "121/121 [==============================] - 1s 10ms/step - loss: 2.6791 - MAE: 2.6791 - val_loss: 2.6253 - val_MAE: 2.6253\n",
            "Epoch 15/80\n",
            "121/121 [==============================] - 1s 9ms/step - loss: 2.6222 - MAE: 2.6222 - val_loss: 2.5645 - val_MAE: 2.5645\n",
            "Epoch 16/80\n",
            "121/121 [==============================] - 0s 4ms/step - loss: 2.5929 - MAE: 2.5929 - val_loss: 2.5235 - val_MAE: 2.5235\n",
            "Epoch 17/80\n",
            "121/121 [==============================] - 1s 4ms/step - loss: 2.5322 - MAE: 2.5322 - val_loss: 2.4711 - val_MAE: 2.4711\n",
            "Epoch 18/80\n",
            "121/121 [==============================] - 1s 5ms/step - loss: 2.4991 - MAE: 2.4991 - val_loss: 2.4260 - val_MAE: 2.4260\n",
            "Epoch 19/80\n",
            "121/121 [==============================] - 1s 5ms/step - loss: 2.4635 - MAE: 2.4635 - val_loss: 2.3854 - val_MAE: 2.3854\n",
            "Epoch 20/80\n",
            "121/121 [==============================] - 1s 5ms/step - loss: 2.4324 - MAE: 2.4324 - val_loss: 2.3543 - val_MAE: 2.3543\n",
            "Epoch 21/80\n",
            "121/121 [==============================] - 1s 4ms/step - loss: 2.4071 - MAE: 2.4071 - val_loss: 2.3322 - val_MAE: 2.3322\n",
            "Epoch 22/80\n",
            "121/121 [==============================] - 1s 5ms/step - loss: 2.3769 - MAE: 2.3769 - val_loss: 2.3064 - val_MAE: 2.3064\n",
            "Epoch 23/80\n",
            "121/121 [==============================] - 0s 3ms/step - loss: 2.3591 - MAE: 2.3591 - val_loss: 2.2967 - val_MAE: 2.2967\n",
            "Epoch 24/80\n",
            "121/121 [==============================] - 0s 4ms/step - loss: 2.3376 - MAE: 2.3376 - val_loss: 2.2665 - val_MAE: 2.2665\n",
            "Epoch 25/80\n",
            "121/121 [==============================] - 0s 3ms/step - loss: 2.3167 - MAE: 2.3167 - val_loss: 2.2572 - val_MAE: 2.2572\n",
            "Epoch 26/80\n",
            "121/121 [==============================] - 0s 3ms/step - loss: 2.2860 - MAE: 2.2860 - val_loss: 2.2551 - val_MAE: 2.2551\n",
            "Epoch 27/80\n",
            "121/121 [==============================] - 0s 3ms/step - loss: 2.2793 - MAE: 2.2793 - val_loss: 2.2600 - val_MAE: 2.2600\n",
            "Epoch 28/80\n",
            "121/121 [==============================] - 0s 3ms/step - loss: 2.2713 - MAE: 2.2713 - val_loss: 2.2312 - val_MAE: 2.2312\n",
            "Epoch 29/80\n",
            "121/121 [==============================] - 0s 3ms/step - loss: 2.2569 - MAE: 2.2569 - val_loss: 2.2140 - val_MAE: 2.2140\n",
            "Epoch 30/80\n",
            "121/121 [==============================] - 0s 3ms/step - loss: 2.2406 - MAE: 2.2406 - val_loss: 2.2159 - val_MAE: 2.2159\n",
            "Epoch 31/80\n",
            "121/121 [==============================] - 0s 3ms/step - loss: 2.2281 - MAE: 2.2281 - val_loss: 2.2073 - val_MAE: 2.2073\n",
            "Epoch 32/80\n",
            "121/121 [==============================] - 0s 3ms/step - loss: 2.2140 - MAE: 2.2140 - val_loss: 2.1882 - val_MAE: 2.1882\n",
            "Epoch 33/80\n",
            "121/121 [==============================] - 0s 3ms/step - loss: 2.2073 - MAE: 2.2073 - val_loss: 2.1947 - val_MAE: 2.1947\n",
            "Epoch 34/80\n",
            "121/121 [==============================] - 0s 3ms/step - loss: 2.2053 - MAE: 2.2053 - val_loss: 2.1835 - val_MAE: 2.1835\n",
            "Epoch 35/80\n",
            "121/121 [==============================] - 0s 3ms/step - loss: 2.1917 - MAE: 2.1917 - val_loss: 2.1767 - val_MAE: 2.1767\n",
            "Epoch 36/80\n",
            "121/121 [==============================] - 0s 3ms/step - loss: 2.1786 - MAE: 2.1786 - val_loss: 2.1746 - val_MAE: 2.1746\n",
            "Epoch 37/80\n",
            "121/121 [==============================] - 0s 3ms/step - loss: 2.1714 - MAE: 2.1714 - val_loss: 2.1649 - val_MAE: 2.1649\n",
            "Epoch 38/80\n",
            "121/121 [==============================] - 0s 3ms/step - loss: 2.1654 - MAE: 2.1654 - val_loss: 2.1823 - val_MAE: 2.1823\n",
            "Epoch 39/80\n",
            "121/121 [==============================] - 0s 3ms/step - loss: 2.1601 - MAE: 2.1601 - val_loss: 2.1582 - val_MAE: 2.1582\n",
            "Epoch 40/80\n",
            "121/121 [==============================] - 0s 3ms/step - loss: 2.1426 - MAE: 2.1426 - val_loss: 2.1510 - val_MAE: 2.1510\n",
            "Epoch 41/80\n",
            "121/121 [==============================] - 0s 3ms/step - loss: 2.1365 - MAE: 2.1365 - val_loss: 2.1432 - val_MAE: 2.1432\n",
            "Epoch 42/80\n",
            "121/121 [==============================] - 0s 3ms/step - loss: 2.1292 - MAE: 2.1292 - val_loss: 2.1437 - val_MAE: 2.1437\n",
            "Epoch 43/80\n",
            "121/121 [==============================] - 0s 3ms/step - loss: 2.1213 - MAE: 2.1213 - val_loss: 2.1379 - val_MAE: 2.1379\n",
            "Epoch 44/80\n",
            "121/121 [==============================] - 0s 3ms/step - loss: 2.1144 - MAE: 2.1144 - val_loss: 2.1385 - val_MAE: 2.1385\n",
            "Epoch 45/80\n",
            "121/121 [==============================] - 0s 2ms/step - loss: 2.1120 - MAE: 2.1120 - val_loss: 2.1253 - val_MAE: 2.1253\n",
            "Epoch 46/80\n",
            "121/121 [==============================] - 0s 3ms/step - loss: 2.1001 - MAE: 2.1001 - val_loss: 2.1327 - val_MAE: 2.1327\n",
            "Epoch 47/80\n",
            "121/121 [==============================] - 0s 2ms/step - loss: 2.0974 - MAE: 2.0974 - val_loss: 2.1239 - val_MAE: 2.1239\n",
            "Epoch 48/80\n",
            "121/121 [==============================] - 0s 3ms/step - loss: 2.0899 - MAE: 2.0899 - val_loss: 2.1254 - val_MAE: 2.1254\n",
            "Epoch 49/80\n",
            "121/121 [==============================] - 0s 3ms/step - loss: 2.0791 - MAE: 2.0791 - val_loss: 2.1172 - val_MAE: 2.1172\n",
            "Epoch 50/80\n",
            "121/121 [==============================] - 1s 5ms/step - loss: 2.0831 - MAE: 2.0831 - val_loss: 2.1239 - val_MAE: 2.1239\n",
            "Epoch 51/80\n",
            "121/121 [==============================] - 0s 4ms/step - loss: 2.0825 - MAE: 2.0825 - val_loss: 2.1180 - val_MAE: 2.1180\n",
            "Epoch 52/80\n",
            "121/121 [==============================] - 0s 4ms/step - loss: 2.0738 - MAE: 2.0738 - val_loss: 2.1119 - val_MAE: 2.1119\n",
            "Epoch 53/80\n",
            "121/121 [==============================] - 1s 4ms/step - loss: 2.0626 - MAE: 2.0626 - val_loss: 2.0993 - val_MAE: 2.0993\n",
            "Epoch 54/80\n",
            "121/121 [==============================] - 1s 4ms/step - loss: 2.0541 - MAE: 2.0541 - val_loss: 2.0976 - val_MAE: 2.0976\n",
            "Epoch 55/80\n",
            "121/121 [==============================] - 1s 5ms/step - loss: 2.0505 - MAE: 2.0505 - val_loss: 2.0962 - val_MAE: 2.0962\n",
            "Epoch 56/80\n",
            "121/121 [==============================] - 1s 5ms/step - loss: 2.0669 - MAE: 2.0669 - val_loss: 2.0995 - val_MAE: 2.0995\n",
            "Epoch 57/80\n",
            "121/121 [==============================] - 1s 5ms/step - loss: 2.0458 - MAE: 2.0458 - val_loss: 2.1006 - val_MAE: 2.1006\n",
            "Epoch 58/80\n",
            "121/121 [==============================] - 0s 3ms/step - loss: 2.0482 - MAE: 2.0482 - val_loss: 2.1036 - val_MAE: 2.1036\n",
            "Epoch 59/80\n",
            "121/121 [==============================] - 0s 2ms/step - loss: 2.0330 - MAE: 2.0330 - val_loss: 2.0860 - val_MAE: 2.0860\n",
            "Epoch 60/80\n",
            "121/121 [==============================] - 0s 3ms/step - loss: 2.0350 - MAE: 2.0350 - val_loss: 2.0821 - val_MAE: 2.0821\n",
            "Epoch 61/80\n",
            "121/121 [==============================] - 0s 3ms/step - loss: 2.0235 - MAE: 2.0235 - val_loss: 2.0745 - val_MAE: 2.0745\n",
            "Epoch 62/80\n",
            "121/121 [==============================] - 0s 3ms/step - loss: 2.0300 - MAE: 2.0300 - val_loss: 2.0803 - val_MAE: 2.0803\n",
            "Epoch 63/80\n",
            "121/121 [==============================] - 0s 3ms/step - loss: 2.0165 - MAE: 2.0165 - val_loss: 2.0768 - val_MAE: 2.0768\n",
            "Epoch 64/80\n",
            "121/121 [==============================] - 0s 3ms/step - loss: 2.0108 - MAE: 2.0108 - val_loss: 2.0666 - val_MAE: 2.0666\n",
            "Epoch 65/80\n",
            "121/121 [==============================] - 0s 3ms/step - loss: 2.0057 - MAE: 2.0057 - val_loss: 2.0865 - val_MAE: 2.0865\n",
            "Epoch 66/80\n",
            "121/121 [==============================] - 0s 3ms/step - loss: 2.0055 - MAE: 2.0055 - val_loss: 2.0558 - val_MAE: 2.0558\n",
            "Epoch 67/80\n",
            "121/121 [==============================] - 0s 3ms/step - loss: 2.0055 - MAE: 2.0055 - val_loss: 2.0557 - val_MAE: 2.0557\n",
            "Epoch 68/80\n",
            "121/121 [==============================] - 0s 2ms/step - loss: 1.9995 - MAE: 1.9995 - val_loss: 2.0468 - val_MAE: 2.0468\n",
            "Epoch 69/80\n",
            "121/121 [==============================] - 0s 3ms/step - loss: 1.9922 - MAE: 1.9922 - val_loss: 2.0511 - val_MAE: 2.0511\n",
            "Epoch 70/80\n",
            "121/121 [==============================] - 0s 2ms/step - loss: 1.9898 - MAE: 1.9898 - val_loss: 2.0416 - val_MAE: 2.0416\n",
            "Epoch 71/80\n",
            "121/121 [==============================] - 0s 3ms/step - loss: 1.9883 - MAE: 1.9883 - val_loss: 2.0529 - val_MAE: 2.0529\n",
            "Epoch 72/80\n",
            "121/121 [==============================] - 0s 3ms/step - loss: 1.9798 - MAE: 1.9798 - val_loss: 2.0529 - val_MAE: 2.0529\n",
            "Epoch 73/80\n",
            "121/121 [==============================] - 0s 3ms/step - loss: 1.9786 - MAE: 1.9786 - val_loss: 2.0462 - val_MAE: 2.0462\n",
            "Epoch 74/80\n",
            "121/121 [==============================] - 0s 3ms/step - loss: 1.9781 - MAE: 1.9781 - val_loss: 2.0457 - val_MAE: 2.0457\n",
            "Epoch 75/80\n",
            "121/121 [==============================] - 0s 3ms/step - loss: 1.9712 - MAE: 1.9712 - val_loss: 2.0422 - val_MAE: 2.0422\n",
            "Epoch 76/80\n",
            "121/121 [==============================] - 0s 3ms/step - loss: 1.9732 - MAE: 1.9732 - val_loss: 2.0267 - val_MAE: 2.0267\n",
            "Epoch 77/80\n",
            "121/121 [==============================] - 0s 3ms/step - loss: 1.9661 - MAE: 1.9661 - val_loss: 2.0344 - val_MAE: 2.0344\n",
            "Epoch 78/80\n",
            "121/121 [==============================] - 0s 3ms/step - loss: 1.9621 - MAE: 1.9621 - val_loss: 2.0280 - val_MAE: 2.0280\n",
            "Epoch 79/80\n",
            "121/121 [==============================] - 0s 3ms/step - loss: 1.9631 - MAE: 1.9631 - val_loss: 2.0324 - val_MAE: 2.0324\n",
            "Epoch 80/80\n",
            "121/121 [==============================] - 0s 3ms/step - loss: 1.9586 - MAE: 1.9586 - val_loss: 2.0184 - val_MAE: 2.0184\n"
          ]
        },
        {
          "output_type": "execute_result",
          "data": {
            "text/plain": [
              "<keras.callbacks.History at 0x7fdc793d7340>"
            ]
          },
          "metadata": {},
          "execution_count": 19
        }
      ],
      "source": [
        "model.fit(x_train, y_train,epochs = 80, validation_split = 0.2, callbacks = [early_stopping])"
      ]
    },
    {
      "cell_type": "code",
      "execution_count": 20,
      "id": "088228dc",
      "metadata": {
        "id": "088228dc",
        "outputId": "abaf53d5-f375-4b20-f5d0-201bf61b0f94",
        "colab": {
          "base_uri": "https://localhost:8080/"
        }
      },
      "outputs": [
        {
          "output_type": "stream",
          "name": "stdout",
          "text": [
            "38/38 [==============================] - 0s 2ms/step - loss: 2.0106 - MAE: 2.0106\n",
            "Test Loss: 2.0105721950531006, Test MAE: 2.0105721950531006\n"
          ]
        }
      ],
      "source": [
        "test_loss, test_mae = model.evaluate(x_test, y_test)\n",
        "print(f\"Test Loss: {test_loss}, Test MAE: {test_mae}\")"
      ]
    },
    {
      "cell_type": "code",
      "execution_count": 21,
      "id": "067a66f4",
      "metadata": {
        "id": "067a66f4",
        "outputId": "eb169259-4888-43e9-c210-aed4ca9eead6",
        "colab": {
          "base_uri": "https://localhost:8080/"
        }
      },
      "outputs": [
        {
          "output_type": "stream",
          "name": "stdout",
          "text": [
            "38/38 [==============================] - 0s 1ms/step\n"
          ]
        }
      ],
      "source": [
        "y_pred = model.predict(x_test)\n",
        "y_pred = np.argmax(y_pred, axis = 1)"
      ]
    },
    {
      "cell_type": "code",
      "execution_count": 21,
      "id": "78948283",
      "metadata": {
        "id": "78948283"
      },
      "outputs": [],
      "source": []
    }
  ],
  "metadata": {
    "kernelspec": {
      "display_name": "Python 3 (ipykernel)",
      "language": "python",
      "name": "python3"
    },
    "language_info": {
      "codemirror_mode": {
        "name": "ipython",
        "version": 3
      },
      "file_extension": ".py",
      "mimetype": "text/x-python",
      "name": "python",
      "nbconvert_exporter": "python",
      "pygments_lexer": "ipython3",
      "version": "3.9.12"
    },
    "colab": {
      "provenance": [],
      "include_colab_link": true
    }
  },
  "nbformat": 4,
  "nbformat_minor": 5
}