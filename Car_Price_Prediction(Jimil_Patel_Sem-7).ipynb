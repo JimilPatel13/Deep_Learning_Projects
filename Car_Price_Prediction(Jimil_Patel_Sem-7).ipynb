{
 "cells": [
  {
   "cell_type": "markdown",
   "id": "28692d1a",
   "metadata": {},
   "source": [
    "# Name : Patel Jimil Mitesh\n",
    "# Data Science (Sem-7)"
   ]
  },
  {
   "cell_type": "code",
   "execution_count": 1,
   "id": "06631146",
   "metadata": {},
   "outputs": [],
   "source": [
    "# Importing libraries\n",
    "import tensorflow as tf\n",
    "from tensorflow.keras.models import Sequential\n",
    "from tensorflow.keras.layers import Dense\n",
    "from tensorflow.keras.callbacks import EarlyStopping\n",
    "from sklearn.preprocessing import StandardScaler\n",
    "from sklearn.metrics import confusion_matrix\n",
    "import numpy as np\n",
    "import pandas as pd\n",
    "import seaborn as sns\n",
    "import matplotlib.pyplot as plt"
   ]
  },
  {
   "cell_type": "code",
   "execution_count": 2,
   "id": "1e31ba1a",
   "metadata": {},
   "outputs": [],
   "source": [
    "#Loading data\n",
    "data = pd.read_csv(\"car-data.csv\")"
   ]
  },
  {
   "cell_type": "code",
   "execution_count": 3,
   "id": "62fd4eb8",
   "metadata": {},
   "outputs": [
    {
     "data": {
      "text/html": [
       "<div>\n",
       "<style scoped>\n",
       "    .dataframe tbody tr th:only-of-type {\n",
       "        vertical-align: middle;\n",
       "    }\n",
       "\n",
       "    .dataframe tbody tr th {\n",
       "        vertical-align: top;\n",
       "    }\n",
       "\n",
       "    .dataframe thead th {\n",
       "        text-align: right;\n",
       "    }\n",
       "</style>\n",
       "<table border=\"1\" class=\"dataframe\">\n",
       "  <thead>\n",
       "    <tr style=\"text-align: right;\">\n",
       "      <th></th>\n",
       "      <th>Unnamed: 0</th>\n",
       "      <th>Name</th>\n",
       "      <th>Location</th>\n",
       "      <th>Year</th>\n",
       "      <th>Kilometers_Driven</th>\n",
       "      <th>Fuel_Type</th>\n",
       "      <th>Transmission</th>\n",
       "      <th>Owner_Type</th>\n",
       "      <th>Mileage</th>\n",
       "      <th>Engine</th>\n",
       "      <th>Power</th>\n",
       "      <th>Seats</th>\n",
       "      <th>New_Price</th>\n",
       "      <th>Price</th>\n",
       "    </tr>\n",
       "  </thead>\n",
       "  <tbody>\n",
       "    <tr>\n",
       "      <th>0</th>\n",
       "      <td>0</td>\n",
       "      <td>Maruti Wagon R LXI CNG</td>\n",
       "      <td>Mumbai</td>\n",
       "      <td>2010</td>\n",
       "      <td>72000</td>\n",
       "      <td>CNG</td>\n",
       "      <td>Manual</td>\n",
       "      <td>First</td>\n",
       "      <td>26.6 km/kg</td>\n",
       "      <td>998 CC</td>\n",
       "      <td>58.16 bhp</td>\n",
       "      <td>5.0</td>\n",
       "      <td>NaN</td>\n",
       "      <td>1.75</td>\n",
       "    </tr>\n",
       "    <tr>\n",
       "      <th>1</th>\n",
       "      <td>1</td>\n",
       "      <td>Hyundai Creta 1.6 CRDi SX Option</td>\n",
       "      <td>Pune</td>\n",
       "      <td>2015</td>\n",
       "      <td>41000</td>\n",
       "      <td>Diesel</td>\n",
       "      <td>Manual</td>\n",
       "      <td>First</td>\n",
       "      <td>19.67 kmpl</td>\n",
       "      <td>1582 CC</td>\n",
       "      <td>126.2 bhp</td>\n",
       "      <td>5.0</td>\n",
       "      <td>NaN</td>\n",
       "      <td>12.50</td>\n",
       "    </tr>\n",
       "    <tr>\n",
       "      <th>2</th>\n",
       "      <td>2</td>\n",
       "      <td>Honda Jazz V</td>\n",
       "      <td>Chennai</td>\n",
       "      <td>2011</td>\n",
       "      <td>46000</td>\n",
       "      <td>Petrol</td>\n",
       "      <td>Manual</td>\n",
       "      <td>First</td>\n",
       "      <td>18.2 kmpl</td>\n",
       "      <td>1199 CC</td>\n",
       "      <td>88.7 bhp</td>\n",
       "      <td>5.0</td>\n",
       "      <td>8.61 Lakh</td>\n",
       "      <td>4.50</td>\n",
       "    </tr>\n",
       "    <tr>\n",
       "      <th>3</th>\n",
       "      <td>3</td>\n",
       "      <td>Maruti Ertiga VDI</td>\n",
       "      <td>Chennai</td>\n",
       "      <td>2012</td>\n",
       "      <td>87000</td>\n",
       "      <td>Diesel</td>\n",
       "      <td>Manual</td>\n",
       "      <td>First</td>\n",
       "      <td>20.77 kmpl</td>\n",
       "      <td>1248 CC</td>\n",
       "      <td>88.76 bhp</td>\n",
       "      <td>7.0</td>\n",
       "      <td>NaN</td>\n",
       "      <td>6.00</td>\n",
       "    </tr>\n",
       "    <tr>\n",
       "      <th>4</th>\n",
       "      <td>4</td>\n",
       "      <td>Audi A4 New 2.0 TDI Multitronic</td>\n",
       "      <td>Coimbatore</td>\n",
       "      <td>2013</td>\n",
       "      <td>40670</td>\n",
       "      <td>Diesel</td>\n",
       "      <td>Automatic</td>\n",
       "      <td>Second</td>\n",
       "      <td>15.2 kmpl</td>\n",
       "      <td>1968 CC</td>\n",
       "      <td>140.8 bhp</td>\n",
       "      <td>5.0</td>\n",
       "      <td>NaN</td>\n",
       "      <td>17.74</td>\n",
       "    </tr>\n",
       "  </tbody>\n",
       "</table>\n",
       "</div>"
      ],
      "text/plain": [
       "   Unnamed: 0                              Name    Location  Year  \\\n",
       "0           0            Maruti Wagon R LXI CNG      Mumbai  2010   \n",
       "1           1  Hyundai Creta 1.6 CRDi SX Option        Pune  2015   \n",
       "2           2                      Honda Jazz V     Chennai  2011   \n",
       "3           3                 Maruti Ertiga VDI     Chennai  2012   \n",
       "4           4   Audi A4 New 2.0 TDI Multitronic  Coimbatore  2013   \n",
       "\n",
       "   Kilometers_Driven Fuel_Type Transmission Owner_Type     Mileage   Engine  \\\n",
       "0              72000       CNG       Manual      First  26.6 km/kg   998 CC   \n",
       "1              41000    Diesel       Manual      First  19.67 kmpl  1582 CC   \n",
       "2              46000    Petrol       Manual      First   18.2 kmpl  1199 CC   \n",
       "3              87000    Diesel       Manual      First  20.77 kmpl  1248 CC   \n",
       "4              40670    Diesel    Automatic     Second   15.2 kmpl  1968 CC   \n",
       "\n",
       "       Power  Seats  New_Price  Price  \n",
       "0  58.16 bhp    5.0        NaN   1.75  \n",
       "1  126.2 bhp    5.0        NaN  12.50  \n",
       "2   88.7 bhp    5.0  8.61 Lakh   4.50  \n",
       "3  88.76 bhp    7.0        NaN   6.00  \n",
       "4  140.8 bhp    5.0        NaN  17.74  "
      ]
     },
     "execution_count": 3,
     "metadata": {},
     "output_type": "execute_result"
    }
   ],
   "source": [
    "data.head()"
   ]
  },
  {
   "cell_type": "code",
   "execution_count": 4,
   "id": "20da8ece",
   "metadata": {},
   "outputs": [
    {
     "data": {
      "text/plain": [
       "(6019, 14)"
      ]
     },
     "execution_count": 4,
     "metadata": {},
     "output_type": "execute_result"
    }
   ],
   "source": [
    "data.shape"
   ]
  },
  {
   "cell_type": "code",
   "execution_count": 5,
   "id": "346131c0",
   "metadata": {},
   "outputs": [
    {
     "name": "stdout",
     "output_type": "stream",
     "text": [
      "<class 'pandas.core.frame.DataFrame'>\n",
      "RangeIndex: 6019 entries, 0 to 6018\n",
      "Data columns (total 14 columns):\n",
      " #   Column             Non-Null Count  Dtype  \n",
      "---  ------             --------------  -----  \n",
      " 0   Unnamed: 0         6019 non-null   int64  \n",
      " 1   Name               6019 non-null   object \n",
      " 2   Location           6019 non-null   object \n",
      " 3   Year               6019 non-null   int64  \n",
      " 4   Kilometers_Driven  6019 non-null   int64  \n",
      " 5   Fuel_Type          6019 non-null   object \n",
      " 6   Transmission       6019 non-null   object \n",
      " 7   Owner_Type         6019 non-null   object \n",
      " 8   Mileage            6017 non-null   object \n",
      " 9   Engine             5983 non-null   object \n",
      " 10  Power              5983 non-null   object \n",
      " 11  Seats              5977 non-null   float64\n",
      " 12  New_Price          824 non-null    object \n",
      " 13  Price              6019 non-null   float64\n",
      "dtypes: float64(2), int64(3), object(9)\n",
      "memory usage: 658.5+ KB\n"
     ]
    }
   ],
   "source": [
    "data.info()"
   ]
  },
  {
   "cell_type": "code",
   "execution_count": 6,
   "id": "d52271e3",
   "metadata": {},
   "outputs": [
    {
     "data": {
      "text/html": [
       "<div>\n",
       "<style scoped>\n",
       "    .dataframe tbody tr th:only-of-type {\n",
       "        vertical-align: middle;\n",
       "    }\n",
       "\n",
       "    .dataframe tbody tr th {\n",
       "        vertical-align: top;\n",
       "    }\n",
       "\n",
       "    .dataframe thead th {\n",
       "        text-align: right;\n",
       "    }\n",
       "</style>\n",
       "<table border=\"1\" class=\"dataframe\">\n",
       "  <thead>\n",
       "    <tr style=\"text-align: right;\">\n",
       "      <th></th>\n",
       "      <th>Unnamed: 0</th>\n",
       "      <th>Year</th>\n",
       "      <th>Kilometers_Driven</th>\n",
       "      <th>Seats</th>\n",
       "      <th>Price</th>\n",
       "    </tr>\n",
       "  </thead>\n",
       "  <tbody>\n",
       "    <tr>\n",
       "      <th>count</th>\n",
       "      <td>6019.000000</td>\n",
       "      <td>6019.000000</td>\n",
       "      <td>6.019000e+03</td>\n",
       "      <td>5977.000000</td>\n",
       "      <td>6019.000000</td>\n",
       "    </tr>\n",
       "    <tr>\n",
       "      <th>mean</th>\n",
       "      <td>3009.000000</td>\n",
       "      <td>2013.358199</td>\n",
       "      <td>5.873838e+04</td>\n",
       "      <td>5.278735</td>\n",
       "      <td>9.479468</td>\n",
       "    </tr>\n",
       "    <tr>\n",
       "      <th>std</th>\n",
       "      <td>1737.679967</td>\n",
       "      <td>3.269742</td>\n",
       "      <td>9.126884e+04</td>\n",
       "      <td>0.808840</td>\n",
       "      <td>11.187917</td>\n",
       "    </tr>\n",
       "    <tr>\n",
       "      <th>min</th>\n",
       "      <td>0.000000</td>\n",
       "      <td>1998.000000</td>\n",
       "      <td>1.710000e+02</td>\n",
       "      <td>0.000000</td>\n",
       "      <td>0.440000</td>\n",
       "    </tr>\n",
       "    <tr>\n",
       "      <th>25%</th>\n",
       "      <td>1504.500000</td>\n",
       "      <td>2011.000000</td>\n",
       "      <td>3.400000e+04</td>\n",
       "      <td>5.000000</td>\n",
       "      <td>3.500000</td>\n",
       "    </tr>\n",
       "    <tr>\n",
       "      <th>50%</th>\n",
       "      <td>3009.000000</td>\n",
       "      <td>2014.000000</td>\n",
       "      <td>5.300000e+04</td>\n",
       "      <td>5.000000</td>\n",
       "      <td>5.640000</td>\n",
       "    </tr>\n",
       "    <tr>\n",
       "      <th>75%</th>\n",
       "      <td>4513.500000</td>\n",
       "      <td>2016.000000</td>\n",
       "      <td>7.300000e+04</td>\n",
       "      <td>5.000000</td>\n",
       "      <td>9.950000</td>\n",
       "    </tr>\n",
       "    <tr>\n",
       "      <th>max</th>\n",
       "      <td>6018.000000</td>\n",
       "      <td>2019.000000</td>\n",
       "      <td>6.500000e+06</td>\n",
       "      <td>10.000000</td>\n",
       "      <td>160.000000</td>\n",
       "    </tr>\n",
       "  </tbody>\n",
       "</table>\n",
       "</div>"
      ],
      "text/plain": [
       "        Unnamed: 0         Year  Kilometers_Driven        Seats        Price\n",
       "count  6019.000000  6019.000000       6.019000e+03  5977.000000  6019.000000\n",
       "mean   3009.000000  2013.358199       5.873838e+04     5.278735     9.479468\n",
       "std    1737.679967     3.269742       9.126884e+04     0.808840    11.187917\n",
       "min       0.000000  1998.000000       1.710000e+02     0.000000     0.440000\n",
       "25%    1504.500000  2011.000000       3.400000e+04     5.000000     3.500000\n",
       "50%    3009.000000  2014.000000       5.300000e+04     5.000000     5.640000\n",
       "75%    4513.500000  2016.000000       7.300000e+04     5.000000     9.950000\n",
       "max    6018.000000  2019.000000       6.500000e+06    10.000000   160.000000"
      ]
     },
     "execution_count": 6,
     "metadata": {},
     "output_type": "execute_result"
    }
   ],
   "source": [
    "data.describe()"
   ]
  },
  {
   "cell_type": "code",
   "execution_count": 7,
   "id": "45179d5d",
   "metadata": {},
   "outputs": [
    {
     "data": {
      "text/plain": [
       "False"
      ]
     },
     "execution_count": 7,
     "metadata": {},
     "output_type": "execute_result"
    }
   ],
   "source": [
    "data.duplicated().any()"
   ]
  },
  {
   "cell_type": "code",
   "execution_count": 8,
   "id": "3358d252",
   "metadata": {},
   "outputs": [],
   "source": [
    "# Handling NaN values with mean imputation for numerical data\n",
    "data_numeric = data.select_dtypes(include=[np.number])\n",
    "data_numeric = data_numeric.fillna(data_numeric.mean())\n",
    "\n",
    "# Handling NaN values with mode imputation for categorical data\n",
    "data_categorical = data.select_dtypes(include=[np.object_])\n",
    "data_categorical = data_categorical.fillna(data_categorical.mode().iloc[0])\n",
    "\n",
    "# Combining the numerical and categorical data\n",
    "data = pd.concat([data_numeric, data_categorical], axis=1)"
   ]
  },
  {
   "cell_type": "code",
   "execution_count": 9,
   "id": "f8fd6d6f",
   "metadata": {},
   "outputs": [],
   "source": [
    "from sklearn import preprocessing\n",
    "label_encoder = preprocessing.LabelEncoder()\n",
    "data['Name'] = label_encoder.fit_transform(data['Name'])\n",
    "data['Location'] = label_encoder.fit_transform(data['Location'])\n",
    "data['Fuel_Type'] = label_encoder.fit_transform(data['Fuel_Type'])\n",
    "data['Transmission'] = label_encoder.fit_transform(data['Transmission'])\n",
    "data['Owner_Type'] = label_encoder.fit_transform(data['Owner_Type'])\n",
    "data['Power'] = label_encoder.fit_transform(data['Power'])\n",
    "data['Engine'] = label_encoder.fit_transform(data['Engine'])\n",
    "data['Mileage'] = label_encoder.fit_transform(data['Mileage'])\n",
    "data['New_Price'] = label_encoder.fit_transform(data['New_Price'])"
   ]
  },
  {
   "cell_type": "code",
   "execution_count": 10,
   "id": "0a3cbd7f",
   "metadata": {},
   "outputs": [],
   "source": [
    "x = data.drop(columns = ['Price','Unnamed: 0'], axis = 1)"
   ]
  },
  {
   "cell_type": "code",
   "execution_count": 11,
   "id": "09924787",
   "metadata": {},
   "outputs": [],
   "source": [
    "y = data['Price']"
   ]
  },
  {
   "cell_type": "code",
   "execution_count": 12,
   "id": "8a85285a",
   "metadata": {},
   "outputs": [],
   "source": [
    "from sklearn.model_selection import train_test_split\n",
    "\n",
    "x_train, x_test, y_train, y_test = train_test_split(x, y, test_size = 0.2)"
   ]
  },
  {
   "cell_type": "code",
   "execution_count": 13,
   "id": "330a5511",
   "metadata": {},
   "outputs": [
    {
     "data": {
      "text/plain": [
       "(4815, 12)"
      ]
     },
     "execution_count": 13,
     "metadata": {},
     "output_type": "execute_result"
    }
   ],
   "source": [
    "x_train.shape"
   ]
  },
  {
   "cell_type": "code",
   "execution_count": 14,
   "id": "aa60f4bc",
   "metadata": {},
   "outputs": [
    {
     "data": {
      "text/plain": [
       "(1204, 12)"
      ]
     },
     "execution_count": 14,
     "metadata": {},
     "output_type": "execute_result"
    }
   ],
   "source": [
    "x_test.shape"
   ]
  },
  {
   "cell_type": "code",
   "execution_count": 15,
   "id": "fcdbe628",
   "metadata": {},
   "outputs": [],
   "source": [
    "scaler = StandardScaler()\n",
    "x_train = scaler.fit_transform(x_train)\n",
    "x_test = scaler.transform(x_test)"
   ]
  },
  {
   "cell_type": "code",
   "execution_count": 16,
   "id": "ed453748",
   "metadata": {},
   "outputs": [],
   "source": [
    "model = Sequential()\n",
    "model.add(Dense(20, activation = 'relu', input_shape = (12,)))\n",
    "model.add(Dense(14, activation = 'relu'))\n",
    "model.add(Dense(1, activation = 'relu'))"
   ]
  },
  {
   "cell_type": "code",
   "execution_count": 17,
   "id": "9f8f7f0c",
   "metadata": {},
   "outputs": [],
   "source": [
    "model.compile(optimizer = 'adam', loss = 'mean_absolute_error', metrics = ['MAE'])"
   ]
  },
  {
   "cell_type": "code",
   "execution_count": 18,
   "id": "fb0e3111",
   "metadata": {},
   "outputs": [],
   "source": [
    "early_stopping = EarlyStopping(monitor = 'MAE', patience = 3)"
   ]
  },
  {
   "cell_type": "code",
   "execution_count": 19,
   "id": "30d70335",
   "metadata": {},
   "outputs": [
    {
     "name": "stdout",
     "output_type": "stream",
     "text": [
      "Epoch 1/80\n",
      "121/121 [==============================] - 1s 3ms/step - loss: 7.5197 - MAE: 7.5197 - val_loss: 5.7242 - val_MAE: 5.7242\n",
      "Epoch 2/80\n",
      "121/121 [==============================] - 0s 3ms/step - loss: 4.8065 - MAE: 4.8065 - val_loss: 4.0245 - val_MAE: 4.0245\n",
      "Epoch 3/80\n",
      "121/121 [==============================] - 0s 3ms/step - loss: 3.8105 - MAE: 3.8105 - val_loss: 3.5357 - val_MAE: 3.5357\n",
      "Epoch 4/80\n",
      "121/121 [==============================] - 0s 4ms/step - loss: 3.4878 - MAE: 3.4878 - val_loss: 3.3309 - val_MAE: 3.3309\n",
      "Epoch 5/80\n",
      "121/121 [==============================] - 0s 4ms/step - loss: 3.3290 - MAE: 3.3290 - val_loss: 3.2193 - val_MAE: 3.2193\n",
      "Epoch 6/80\n",
      "121/121 [==============================] - 0s 4ms/step - loss: 3.2369 - MAE: 3.2369 - val_loss: 3.1376 - val_MAE: 3.1376\n",
      "Epoch 7/80\n",
      "121/121 [==============================] - 0s 4ms/step - loss: 3.1679 - MAE: 3.1679 - val_loss: 3.0809 - val_MAE: 3.0809\n",
      "Epoch 8/80\n",
      "121/121 [==============================] - 0s 4ms/step - loss: 3.1044 - MAE: 3.1044 - val_loss: 3.0179 - val_MAE: 3.0179\n",
      "Epoch 9/80\n",
      "121/121 [==============================] - 0s 4ms/step - loss: 3.0511 - MAE: 3.0511 - val_loss: 2.9613 - val_MAE: 2.9613\n",
      "Epoch 10/80\n",
      "121/121 [==============================] - 0s 4ms/step - loss: 2.9995 - MAE: 2.9995 - val_loss: 2.9198 - val_MAE: 2.9198\n",
      "Epoch 11/80\n",
      "121/121 [==============================] - 0s 4ms/step - loss: 2.9591 - MAE: 2.9591 - val_loss: 2.8551 - val_MAE: 2.8551\n",
      "Epoch 12/80\n",
      "121/121 [==============================] - 0s 3ms/step - loss: 2.9054 - MAE: 2.9054 - val_loss: 2.8021 - val_MAE: 2.8021\n",
      "Epoch 13/80\n",
      "121/121 [==============================] - 0s 3ms/step - loss: 2.8558 - MAE: 2.8558 - val_loss: 2.7656 - val_MAE: 2.7656\n",
      "Epoch 14/80\n",
      "121/121 [==============================] - 0s 4ms/step - loss: 2.8032 - MAE: 2.8032 - val_loss: 2.7127 - val_MAE: 2.7127\n",
      "Epoch 15/80\n",
      "121/121 [==============================] - 0s 4ms/step - loss: 2.7486 - MAE: 2.7486 - val_loss: 2.6706 - val_MAE: 2.6706\n",
      "Epoch 16/80\n",
      "121/121 [==============================] - 0s 4ms/step - loss: 2.7018 - MAE: 2.7018 - val_loss: 2.6017 - val_MAE: 2.6017\n",
      "Epoch 17/80\n",
      "121/121 [==============================] - 0s 4ms/step - loss: 2.6512 - MAE: 2.6512 - val_loss: 2.5852 - val_MAE: 2.5852\n",
      "Epoch 18/80\n",
      "121/121 [==============================] - 0s 4ms/step - loss: 2.6030 - MAE: 2.6030 - val_loss: 2.5194 - val_MAE: 2.5194\n",
      "Epoch 19/80\n",
      "121/121 [==============================] - 0s 4ms/step - loss: 2.5625 - MAE: 2.5625 - val_loss: 2.5139 - val_MAE: 2.5139\n",
      "Epoch 20/80\n",
      "121/121 [==============================] - 0s 4ms/step - loss: 2.5318 - MAE: 2.5318 - val_loss: 2.4437 - val_MAE: 2.4437\n",
      "Epoch 21/80\n",
      "121/121 [==============================] - 0s 4ms/step - loss: 2.4928 - MAE: 2.4928 - val_loss: 2.4062 - val_MAE: 2.4062\n",
      "Epoch 22/80\n",
      "121/121 [==============================] - 0s 4ms/step - loss: 2.4605 - MAE: 2.4605 - val_loss: 2.4024 - val_MAE: 2.4024\n",
      "Epoch 23/80\n",
      "121/121 [==============================] - 0s 4ms/step - loss: 2.4307 - MAE: 2.4307 - val_loss: 2.3460 - val_MAE: 2.3460\n",
      "Epoch 24/80\n",
      "121/121 [==============================] - 0s 4ms/step - loss: 2.3980 - MAE: 2.3980 - val_loss: 2.3112 - val_MAE: 2.3112\n",
      "Epoch 25/80\n",
      "121/121 [==============================] - 0s 4ms/step - loss: 2.3745 - MAE: 2.3745 - val_loss: 2.3166 - val_MAE: 2.3166\n",
      "Epoch 26/80\n",
      "121/121 [==============================] - 0s 3ms/step - loss: 2.3472 - MAE: 2.3472 - val_loss: 2.2720 - val_MAE: 2.2720\n",
      "Epoch 27/80\n",
      "121/121 [==============================] - 0s 4ms/step - loss: 2.3249 - MAE: 2.3249 - val_loss: 2.2724 - val_MAE: 2.2724\n",
      "Epoch 28/80\n",
      "121/121 [==============================] - 0s 4ms/step - loss: 2.3017 - MAE: 2.3017 - val_loss: 2.2347 - val_MAE: 2.2347\n",
      "Epoch 29/80\n",
      "121/121 [==============================] - 0s 3ms/step - loss: 2.2849 - MAE: 2.2849 - val_loss: 2.2294 - val_MAE: 2.2294\n",
      "Epoch 30/80\n",
      "121/121 [==============================] - 0s 3ms/step - loss: 2.2606 - MAE: 2.2606 - val_loss: 2.1895 - val_MAE: 2.1895\n",
      "Epoch 31/80\n",
      "121/121 [==============================] - 0s 3ms/step - loss: 2.2493 - MAE: 2.2493 - val_loss: 2.1983 - val_MAE: 2.1983\n",
      "Epoch 32/80\n",
      "121/121 [==============================] - 0s 4ms/step - loss: 2.2362 - MAE: 2.2362 - val_loss: 2.1583 - val_MAE: 2.1583\n",
      "Epoch 33/80\n",
      "121/121 [==============================] - 0s 4ms/step - loss: 2.2211 - MAE: 2.2211 - val_loss: 2.1734 - val_MAE: 2.1734\n",
      "Epoch 34/80\n",
      "121/121 [==============================] - 0s 4ms/step - loss: 2.2046 - MAE: 2.2046 - val_loss: 2.1270 - val_MAE: 2.1270\n",
      "Epoch 35/80\n",
      "121/121 [==============================] - 0s 3ms/step - loss: 2.2000 - MAE: 2.2000 - val_loss: 2.1334 - val_MAE: 2.1334\n",
      "Epoch 36/80\n",
      "121/121 [==============================] - 0s 3ms/step - loss: 2.1836 - MAE: 2.1836 - val_loss: 2.1246 - val_MAE: 2.1246\n",
      "Epoch 37/80\n",
      "121/121 [==============================] - 0s 4ms/step - loss: 2.1711 - MAE: 2.1711 - val_loss: 2.1127 - val_MAE: 2.1127\n",
      "Epoch 38/80\n",
      "121/121 [==============================] - 0s 4ms/step - loss: 2.1669 - MAE: 2.1669 - val_loss: 2.1016 - val_MAE: 2.1016\n",
      "Epoch 39/80\n",
      "121/121 [==============================] - 0s 4ms/step - loss: 2.1488 - MAE: 2.1488 - val_loss: 2.0865 - val_MAE: 2.0865\n",
      "Epoch 40/80\n",
      "121/121 [==============================] - 0s 3ms/step - loss: 2.1436 - MAE: 2.1436 - val_loss: 2.0764 - val_MAE: 2.0764\n",
      "Epoch 41/80\n",
      "121/121 [==============================] - 0s 4ms/step - loss: 2.1315 - MAE: 2.1315 - val_loss: 2.0956 - val_MAE: 2.0956\n",
      "Epoch 42/80\n",
      "121/121 [==============================] - 0s 3ms/step - loss: 2.1231 - MAE: 2.1231 - val_loss: 2.0750 - val_MAE: 2.0750\n",
      "Epoch 43/80\n",
      "121/121 [==============================] - 0s 3ms/step - loss: 2.1109 - MAE: 2.1109 - val_loss: 2.0792 - val_MAE: 2.0792\n",
      "Epoch 44/80\n",
      "121/121 [==============================] - 0s 4ms/step - loss: 2.1058 - MAE: 2.1058 - val_loss: 2.0446 - val_MAE: 2.0446\n",
      "Epoch 45/80\n",
      "121/121 [==============================] - 0s 4ms/step - loss: 2.0937 - MAE: 2.0937 - val_loss: 2.0322 - val_MAE: 2.0322\n",
      "Epoch 46/80\n",
      "121/121 [==============================] - 0s 4ms/step - loss: 2.0864 - MAE: 2.0864 - val_loss: 2.0287 - val_MAE: 2.0287\n",
      "Epoch 47/80\n",
      "121/121 [==============================] - 0s 4ms/step - loss: 2.0756 - MAE: 2.0756 - val_loss: 2.0322 - val_MAE: 2.0322\n",
      "Epoch 48/80\n",
      "121/121 [==============================] - 0s 4ms/step - loss: 2.0739 - MAE: 2.0739 - val_loss: 2.0776 - val_MAE: 2.0776\n",
      "Epoch 49/80\n",
      "121/121 [==============================] - 0s 3ms/step - loss: 2.0643 - MAE: 2.0643 - val_loss: 2.0222 - val_MAE: 2.0222\n",
      "Epoch 50/80\n",
      "121/121 [==============================] - 0s 4ms/step - loss: 2.0588 - MAE: 2.0588 - val_loss: 2.0224 - val_MAE: 2.0224\n",
      "Epoch 51/80\n",
      "121/121 [==============================] - 0s 4ms/step - loss: 2.0517 - MAE: 2.0517 - val_loss: 2.0174 - val_MAE: 2.0174\n",
      "Epoch 52/80\n",
      "121/121 [==============================] - 0s 4ms/step - loss: 2.0504 - MAE: 2.0504 - val_loss: 2.0494 - val_MAE: 2.0494\n",
      "Epoch 53/80\n",
      "121/121 [==============================] - 0s 4ms/step - loss: 2.0398 - MAE: 2.0398 - val_loss: 1.9975 - val_MAE: 1.9975\n",
      "Epoch 54/80\n",
      "121/121 [==============================] - 0s 4ms/step - loss: 2.0365 - MAE: 2.0365 - val_loss: 1.9923 - val_MAE: 1.9923\n",
      "Epoch 55/80\n",
      "121/121 [==============================] - 0s 3ms/step - loss: 2.0235 - MAE: 2.0235 - val_loss: 1.9989 - val_MAE: 1.9989\n",
      "Epoch 56/80\n",
      "121/121 [==============================] - 0s 3ms/step - loss: 2.0107 - MAE: 2.0107 - val_loss: 1.9888 - val_MAE: 1.9888\n",
      "Epoch 57/80\n",
      "121/121 [==============================] - 0s 3ms/step - loss: 2.0108 - MAE: 2.0108 - val_loss: 1.9858 - val_MAE: 1.9858\n",
      "Epoch 58/80\n",
      "121/121 [==============================] - 0s 3ms/step - loss: 2.0084 - MAE: 2.0084 - val_loss: 1.9792 - val_MAE: 1.9792\n",
      "Epoch 59/80\n",
      "121/121 [==============================] - 0s 3ms/step - loss: 2.0037 - MAE: 2.0037 - val_loss: 1.9918 - val_MAE: 1.9918\n",
      "Epoch 60/80\n",
      "121/121 [==============================] - 0s 4ms/step - loss: 1.9973 - MAE: 1.9973 - val_loss: 1.9842 - val_MAE: 1.9842\n",
      "Epoch 61/80\n",
      "121/121 [==============================] - 0s 3ms/step - loss: 1.9909 - MAE: 1.9909 - val_loss: 2.0036 - val_MAE: 2.0036\n",
      "Epoch 62/80\n"
     ]
    },
    {
     "name": "stdout",
     "output_type": "stream",
     "text": [
      "121/121 [==============================] - 0s 3ms/step - loss: 1.9864 - MAE: 1.9864 - val_loss: 1.9858 - val_MAE: 1.9858\n",
      "Epoch 63/80\n",
      "121/121 [==============================] - 0s 3ms/step - loss: 1.9846 - MAE: 1.9846 - val_loss: 1.9788 - val_MAE: 1.9788\n",
      "Epoch 64/80\n",
      "121/121 [==============================] - 0s 3ms/step - loss: 1.9770 - MAE: 1.9770 - val_loss: 1.9829 - val_MAE: 1.9829\n",
      "Epoch 65/80\n",
      "121/121 [==============================] - 0s 3ms/step - loss: 1.9719 - MAE: 1.9719 - val_loss: 1.9765 - val_MAE: 1.9765\n",
      "Epoch 66/80\n",
      "121/121 [==============================] - 0s 3ms/step - loss: 1.9577 - MAE: 1.9577 - val_loss: 1.9601 - val_MAE: 1.9601\n",
      "Epoch 67/80\n",
      "121/121 [==============================] - 0s 3ms/step - loss: 1.9579 - MAE: 1.9579 - val_loss: 1.9680 - val_MAE: 1.9680\n",
      "Epoch 68/80\n",
      "121/121 [==============================] - 0s 3ms/step - loss: 1.9570 - MAE: 1.9570 - val_loss: 1.9533 - val_MAE: 1.9533\n",
      "Epoch 69/80\n",
      "121/121 [==============================] - 0s 3ms/step - loss: 1.9554 - MAE: 1.9554 - val_loss: 1.9660 - val_MAE: 1.9660\n",
      "Epoch 70/80\n",
      "121/121 [==============================] - 0s 3ms/step - loss: 1.9535 - MAE: 1.9535 - val_loss: 1.9538 - val_MAE: 1.9538\n",
      "Epoch 71/80\n",
      "121/121 [==============================] - 0s 3ms/step - loss: 1.9417 - MAE: 1.9417 - val_loss: 1.9771 - val_MAE: 1.9771\n",
      "Epoch 72/80\n",
      "121/121 [==============================] - 0s 4ms/step - loss: 1.9324 - MAE: 1.9324 - val_loss: 1.9439 - val_MAE: 1.9439\n",
      "Epoch 73/80\n",
      "121/121 [==============================] - 0s 4ms/step - loss: 1.9429 - MAE: 1.9429 - val_loss: 1.9604 - val_MAE: 1.9604\n",
      "Epoch 74/80\n",
      "121/121 [==============================] - 0s 3ms/step - loss: 1.9348 - MAE: 1.9348 - val_loss: 1.9594 - val_MAE: 1.9594\n",
      "Epoch 75/80\n",
      "121/121 [==============================] - 0s 4ms/step - loss: 1.9368 - MAE: 1.9368 - val_loss: 1.9581 - val_MAE: 1.9581\n"
     ]
    },
    {
     "data": {
      "text/plain": [
       "<keras.callbacks.History at 0x249da5f85e0>"
      ]
     },
     "execution_count": 19,
     "metadata": {},
     "output_type": "execute_result"
    }
   ],
   "source": [
    "model.fit(x_train, y_train,epochs = 80, validation_split = 0.2, callbacks = [early_stopping])"
   ]
  },
  {
   "cell_type": "code",
   "execution_count": 20,
   "id": "088228dc",
   "metadata": {},
   "outputs": [
    {
     "name": "stdout",
     "output_type": "stream",
     "text": [
      "38/38 [==============================] - 0s 2ms/step - loss: 2.0615 - MAE: 2.0615\n",
      "Test Loss: 2.061499834060669, Test MAE: 2.061499834060669\n"
     ]
    }
   ],
   "source": [
    "test_loss, test_mae = model.evaluate(x_test, y_test)\n",
    "print(f\"Test Loss: {test_loss}, Test MAE: {test_mae}\")"
   ]
  },
  {
   "cell_type": "code",
   "execution_count": 21,
   "id": "067a66f4",
   "metadata": {},
   "outputs": [
    {
     "name": "stdout",
     "output_type": "stream",
     "text": [
      "38/38 [==============================] - 0s 2ms/step\n"
     ]
    }
   ],
   "source": [
    "y_pred = model.predict(x_test)\n",
    "y_pred = np.argmax(y_pred, axis = 1)"
   ]
  },
  {
   "cell_type": "code",
   "execution_count": null,
   "id": "78948283",
   "metadata": {},
   "outputs": [],
   "source": []
  }
 ],
 "metadata": {
  "kernelspec": {
   "display_name": "Python 3 (ipykernel)",
   "language": "python",
   "name": "python3"
  },
  "language_info": {
   "codemirror_mode": {
    "name": "ipython",
    "version": 3
   },
   "file_extension": ".py",
   "mimetype": "text/x-python",
   "name": "python",
   "nbconvert_exporter": "python",
   "pygments_lexer": "ipython3",
   "version": "3.9.12"
  }
 },
 "nbformat": 4,
 "nbformat_minor": 5
}
